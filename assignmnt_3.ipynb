{
 "cells": [
  {
   "cell_type": "code",
   "execution_count": 1,
   "metadata": {},
   "outputs": [
    {
     "data": {
      "text/plain": [
       "{'name': 'jan', 'age': 55, 'hobbies': ['judo', 'zwemmen']}"
      ]
     },
     "execution_count": 1,
     "metadata": {},
     "output_type": "execute_result"
    }
   ],
   "source": [
    "# assignment 1\n",
    "# Create a dictionary with an (imaginary) person with attributes like his name, age and hobbies\n",
    "person_img = {}\n",
    "person_img['name'] = \"jan\"\n",
    "person_img['age'] = 55\n",
    "person_img['hobbies'] = ['judo', 'zwemmen']\n",
    "\n",
    "person_img\n",
    "\n"
   ]
  },
  {
   "cell_type": "code",
   "execution_count": 2,
   "metadata": {},
   "outputs": [
    {
     "data": {
      "text/plain": [
       "{'name': 'Joost', 'age': 32}"
      ]
     },
     "execution_count": 2,
     "metadata": {},
     "output_type": "execute_result"
    }
   ],
   "source": [
    "person_dict = {\"name\": \"Joost\", \n",
    "               \"age\": 32}\n",
    "person_dict"
   ]
  },
  {
   "cell_type": "code",
   "execution_count": 39,
   "metadata": {},
   "outputs": [
    {
     "data": {
      "text/plain": [
       "{'name': 'Jones', 'members': []}"
      ]
     },
     "execution_count": 39,
     "metadata": {},
     "output_type": "execute_result"
    }
   ],
   "source": [
    "# Assignment 2\n",
    "family_dict = {}\n",
    "family_dict['name'] = \"Jones\"\n",
    "family_dict['members'] = []\n",
    "\n",
    "\n",
    "family_dict"
   ]
  },
  {
   "cell_type": "code",
   "execution_count": 40,
   "metadata": {},
   "outputs": [],
   "source": [
    "# create the members\n",
    "person_1 = {\"name\": \"Ann\", \"age\": 35, \"hobbies\": ['reading', 'programming']}\n",
    "person_2 = {\"name\": \"Arie\", \"age\": 34, \"hobbies\": ['tennis', 'cooking']}\n",
    "person_3 = {\"name\": \"Jimmy\", \"age\": 18, \"hobbies\": ['gaming', 'cycling']}\n",
    "person_4 = {\"name\": \"Mary\", \"age\": 14,  \"hobbies\": ['swimming', 'movies']}"
   ]
  },
  {
   "cell_type": "code",
   "execution_count": 41,
   "metadata": {},
   "outputs": [
    {
     "data": {
      "text/plain": [
       "{'name': 'Jones', 'members': []}"
      ]
     },
     "execution_count": 41,
     "metadata": {},
     "output_type": "execute_result"
    }
   ],
   "source": [
    "family_dict"
   ]
  },
  {
   "cell_type": "code",
   "execution_count": 44,
   "metadata": {},
   "outputs": [
    {
     "data": {
      "text/plain": [
       "{'name': 'Jones',\n",
       " 'members': [{'name': 'Ann', 'age': 35, 'hobbies': ['reading', 'programming']},\n",
       "  {'name': 'Ann', 'age': 35, 'hobbies': ['reading', 'programming']},\n",
       "  {'name': 'Arie', 'age': 34, 'hobbies': ['tennis', 'cooking']},\n",
       "  {'name': 'Jimmy', 'age': 18, 'hobbies': ['gaming', 'cycling']},\n",
       "  {'name': 'Mary', 'age': 14, 'hobbies': ['swimming', 'movies']}]}"
      ]
     },
     "execution_count": 44,
     "metadata": {},
     "output_type": "execute_result"
    }
   ],
   "source": [
    "# adding members to dict (1): with \".append()\"\n",
    "family_dict['members'].append(person_1)\n",
    "family_dict['members'].append(person_2)\n",
    "family_dict['members'].append(person_3)\n",
    "family_dict['members'].append(person_4)\n",
    "\n",
    "family_dict"
   ]
  },
  {
   "cell_type": "code",
   "execution_count": 37,
   "metadata": {},
   "outputs": [
    {
     "data": {
      "text/plain": [
       "{'name': 'Jones',\n",
       " 'members': [{'name': 'Ann', 'age': 35, 'hobbies': ['reading', 'programming']},\n",
       "  {'name': 'Arie', 'age': 34, 'hobbies': ['tennis', 'cooking']},\n",
       "  {'name': 'Jimmy', 'age': 18, 'hobbies': ['gaming', 'cycling']},\n",
       "  {'name': 'Mary', 'age': 14, 'hobbies': ['swimming', 'movies']}]}"
      ]
     },
     "execution_count": 37,
     "metadata": {},
     "output_type": "execute_result"
    }
   ],
   "source": [
    "family_dict"
   ]
  },
  {
   "cell_type": "code",
   "execution_count": 27,
   "metadata": {},
   "outputs": [],
   "source": [
    "# adding members to dict (2): assigning it as a list\n",
    "family_dict['members'] = [person_1, person_2, person_3, person_4]"
   ]
  },
  {
   "cell_type": "code",
   "execution_count": 32,
   "metadata": {},
   "outputs": [
    {
     "data": {
      "text/plain": [
       "{'name': 'Jones',\n",
       " 'members': [{'name': 'Ann', 'age': 35, 'hobbies': ['reading', 'programming']},\n",
       "  {'name': 'Arie', 'age': 34, 'hobbies': ['tennis', 'cooking']},\n",
       "  {'name': 'Jimmy', 'age': 18, 'hobbies': ['gaming', 'cycling']},\n",
       "  {'name': 'Mary', 'age': 14, 'hobbies': ['swimming', 'movies']},\n",
       "  {'name': 'Ann', 'age': 35, 'hobbies': ['reading', 'programming']},\n",
       "  {'name': 'Arie', 'age': 34, 'hobbies': ['tennis', 'cooking']},\n",
       "  {'name': 'Jimmy', 'age': 18, 'hobbies': ['gaming', 'cycling']},\n",
       "  {'name': 'Mary', 'age': 14, 'hobbies': ['swimming', 'movies']},\n",
       "  {'name': 'Ann', 'age': 35, 'hobbies': ['reading', 'programming']},\n",
       "  {'name': 'Arie', 'age': 34, 'hobbies': ['tennis', 'cooking']},\n",
       "  {'name': 'Jimmy', 'age': 18, 'hobbies': ['gaming', 'cycling']},\n",
       "  {'name': 'Mary', 'age': 14, 'hobbies': ['swimming', 'movies']},\n",
       "  {'name': 'Ann', 'age': 35, 'hobbies': ['reading', 'programming']},\n",
       "  {'name': 'Arie', 'age': 34, 'hobbies': ['tennis', 'cooking']},\n",
       "  {'name': 'Jimmy', 'age': 18, 'hobbies': ['gaming', 'cycling']},\n",
       "  {'name': 'Mary', 'age': 14, 'hobbies': ['swimming', 'movies']}]}"
      ]
     },
     "execution_count": 32,
     "metadata": {},
     "output_type": "execute_result"
    }
   ],
   "source": [
    "family_dict"
   ]
  },
  {
   "cell_type": "code",
   "execution_count": 15,
   "metadata": {},
   "outputs": [
    {
     "data": {
      "text/plain": [
       "{'name': 'Ann', 'age': 35, 'hobbies': ['reading', 'programming']}"
      ]
     },
     "execution_count": 15,
     "metadata": {},
     "output_type": "execute_result"
    }
   ],
   "source": [
    "family_dict['members'][0]"
   ]
  },
  {
   "cell_type": "code",
   "execution_count": 26,
   "metadata": {},
   "outputs": [
    {
     "data": {
      "text/plain": [
       "'programming'"
      ]
     },
     "execution_count": 26,
     "metadata": {},
     "output_type": "execute_result"
    }
   ],
   "source": [
    "family_dict['members'][0]['hobbies'][1]"
   ]
  },
  {
   "cell_type": "code",
   "execution_count": null,
   "metadata": {},
   "outputs": [],
   "source": []
  }
 ],
 "metadata": {
  "kernelspec": {
   "display_name": "Python 3",
   "language": "python",
   "name": "python3"
  },
  "language_info": {
   "codemirror_mode": {
    "name": "ipython",
    "version": 3
   },
   "file_extension": ".py",
   "mimetype": "text/x-python",
   "name": "python",
   "nbconvert_exporter": "python",
   "pygments_lexer": "ipython3",
   "version": "3.12.0"
  }
 },
 "nbformat": 4,
 "nbformat_minor": 2
}
