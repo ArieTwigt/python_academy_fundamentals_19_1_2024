{
 "cells": [
  {
   "cell_type": "code",
   "execution_count": 1,
   "metadata": {},
   "outputs": [
    {
     "data": {
      "text/plain": [
       "'A'"
      ]
     },
     "execution_count": 1,
     "metadata": {},
     "output_type": "execute_result"
    }
   ],
   "source": [
    "# my name\n",
    "my_name = \"Arie\"\n",
    "\n",
    "my_name[0]"
   ]
  },
  {
   "cell_type": "code",
   "execution_count": 17,
   "metadata": {},
   "outputs": [
    {
     "name": "stdout",
     "output_type": "stream",
     "text": [
      "No\n"
     ]
    }
   ],
   "source": [
    "# assignment 1\n",
    "name = \"Arie\"\n",
    "\n",
    "if name[0].lower() == \"A\":\n",
    "    print(\"Yes\")\n",
    "else:\n",
    "    print(\"No\")"
   ]
  },
  {
   "cell_type": "code",
   "execution_count": 23,
   "metadata": {},
   "outputs": [
    {
     "name": "stdout",
     "output_type": "stream",
     "text": [
      "Aerijn\n"
     ]
    }
   ],
   "source": [
    "# assignment 2\n",
    "# Create a conditional statement that indicates if your name begins with a vowel. \n",
    "# If it does, change it into a non-vowel and otherwise. For example: Arie –> Brie or Rose –> Aose\n",
    "name = \"Merijn\"\n",
    "\n",
    "vowel_list = \"aeouiAEOUI\"\n",
    "\n",
    "if name[0] in vowel_list:\n",
    "    new_name = \"B\" + name[1:]\n",
    "    print(new_name)\n",
    "else:\n",
    "    new_name = \"A\" + name[1:]\n",
    "    print(new_name)\n"
   ]
  },
  {
   "cell_type": "code",
   "execution_count": 24,
   "metadata": {},
   "outputs": [
    {
     "name": "stdout",
     "output_type": "stream",
     "text": [
      "Brie\n"
     ]
    }
   ],
   "source": [
    "# assignment 2b\n",
    "\n",
    "name = \"Arie\"\n",
    "\n",
    "vowels = \"aeoui\"\n",
    "\n",
    "if name[0].lower() in vowels:\n",
    "    new_name = name.replace(name[0], \"B\")\n",
    "    print(new_name)\n",
    "else:\n",
    "    new_name = name.replace(name[0], \"A\")\n",
    "    print(new_name)"
   ]
  },
  {
   "cell_type": "code",
   "execution_count": null,
   "metadata": {},
   "outputs": [],
   "source": []
  }
 ],
 "metadata": {
  "kernelspec": {
   "display_name": "Python 3",
   "language": "python",
   "name": "python3"
  },
  "language_info": {
   "codemirror_mode": {
    "name": "ipython",
    "version": 3
   },
   "file_extension": ".py",
   "mimetype": "text/x-python",
   "name": "python",
   "nbconvert_exporter": "python",
   "pygments_lexer": "ipython3",
   "version": "3.12.0"
  }
 },
 "nbformat": 4,
 "nbformat_minor": 2
}
